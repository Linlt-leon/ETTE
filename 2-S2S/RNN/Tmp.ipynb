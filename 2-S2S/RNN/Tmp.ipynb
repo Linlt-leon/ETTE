{
 "cells": [
  {
   "cell_type": "markdown",
   "id": "81deba01",
   "metadata": {},
   "source": [
    "This is for temporary run python modules\n",
    "Here is using for extract test sentences to be a single vector file, coz RNN batch processing mixed up the results order."
   ]
  },
  {
   "cell_type": "code",
   "execution_count": null,
   "id": "a48be9ff",
   "metadata": {},
   "outputs": [],
   "source": [
    "with open(\"/home/ano/CS4248/Project/ChrisRNN/test-vectorized.txt\",'r') as f :\n",
    "    lines = [line.rstrip() for line in f] \n",
    "    \n",
    "for i,line in enumerate(lines):\n",
    "    with open(\"/home/ano/CS4248/Project/ChrisRNN/test_1by1/\"+str(i)+\".vec\",'w') as f:\n",
    "        f.write(line)\n",
    "        f.write('\\n')\n",
    "       "
   ]
  },
  {
   "cell_type": "markdown",
   "id": "61cd7a27",
   "metadata": {},
   "source": []
  }
 ],
 "metadata": {
  "kernelspec": {
   "display_name": "Python 3 (ipykernel)",
   "language": "python",
   "name": "python3"
  },
  "language_info": {
   "codemirror_mode": {
    "name": "ipython",
    "version": 3
   },
   "file_extension": ".py",
   "mimetype": "text/x-python",
   "name": "python",
   "nbconvert_exporter": "python",
   "pygments_lexer": "ipython3",
   "version": "3.9.13"
  }
 },
 "nbformat": 4,
 "nbformat_minor": 5
}
