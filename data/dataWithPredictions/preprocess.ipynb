{
 "cells": [
  {
   "cell_type": "code",
   "execution_count": null,
   "id": "056cd5a2-7a47-4d00-a069-3e55dc21079a",
   "metadata": {},
   "outputs": [],
   "source": []
  },
  {
   "cell_type": "code",
   "execution_count": 3,
   "id": "e6f36a44-7617-4802-bdc4-b645e487df6c",
   "metadata": {},
   "outputs": [],
   "source": [
    "with open('./datasets_binary/text/test.txt', 'r') as f:\n",
    "    orig_data = f.readlines()"
   ]
  },
  {
   "cell_type": "code",
   "execution_count": 4,
   "id": "0c09d8c2-4ba1-4d3e-bb7d-34b7df0daf24",
   "metadata": {},
   "outputs": [],
   "source": [
    "with open('./predicted/binary/test.txt', 'r') as f:\n",
    "    pred_data = f.readlines()"
   ]
  },
  {
   "cell_type": "code",
   "execution_count": 12,
   "id": "99a6add6-15cb-4ad5-91c7-f4effe65f799",
   "metadata": {},
   "outputs": [
    {
     "name": "stdout",
     "output_type": "stream",
     "text": [
      "['C', 'C', 'I', 'C', 'I', 'C', 'C', 'C', 'C', 'C', 'C', 'C', 'C', 'C', 'C', 'C', 'C', 'C', 'C', 'C', 'C', 'C', 'C', 'C', 'C', 'C', 'C', 'C', 'C', 'C', 'C', 'C', 'C']\n",
      "33\n"
     ]
    }
   ],
   "source": [
    "print(pred_data[0].strip().split())\n",
    "print(len(pred_data[0].strip().split()))"
   ]
  },
  {
   "cell_type": "code",
   "execution_count": null,
   "id": "962060d5-1f43-49eb-b1bd-6981810c9192",
   "metadata": {},
   "outputs": [],
   "source": []
  },
  {
   "cell_type": "code",
   "execution_count": 13,
   "id": "4ff01bd4-690c-4611-9586-c578d3f8db25",
   "metadata": {},
   "outputs": [
    {
     "name": "stdout",
     "output_type": "stream",
     "text": [
      "['It', \"'s\", 'difficult', 'answer', 'at', 'the', 'question', '\"', 'what', 'are', 'you', 'going', 'to', 'do', 'in', 'the', 'future', '?', '\"', 'if', 'the', 'only', 'one', 'who', 'has', 'to', 'know', 'it', 'is', 'in', 'two', 'minds', '.']\n",
      "33\n"
     ]
    }
   ],
   "source": [
    "print(orig_data[0].strip().split())\n",
    "print(len(orig_data[0].strip().split()))"
   ]
  },
  {
   "cell_type": "markdown",
   "id": "84bbfa41-56a2-4fce-abe9-48e638b17bf2",
   "metadata": {},
   "source": [
    "# binary"
   ]
  },
  {
   "cell_type": "code",
   "execution_count": 64,
   "id": "6f3f25a4-19f2-44e5-9327-824241da1920",
   "metadata": {},
   "outputs": [],
   "source": [
    "# with open('./datasets_binary/text/train.txt', 'r') as f:\n",
    "#     orig_data = f.readlines()\n",
    "    \n",
    "# with open('./predicted/binary/train.txt', 'r') as f:\n",
    "#     pred_data = f.readlines()\n",
    "\n",
    "with open('./predicted/trueTest/ABCN.test.bea19.txt', 'r') as f:\n",
    "    orig_data = f.readlines()\n",
    "    \n",
    "with open('./predicted/trueTest/binary.txt', 'r') as f:\n",
    "    pred_data = f.readlines()"
   ]
  },
  {
   "cell_type": "code",
   "execution_count": 65,
   "id": "8ab6e2d2-f493-4d26-9356-926410491bbf",
   "metadata": {},
   "outputs": [
    {
     "name": "stdout",
     "output_type": "stream",
     "text": [
      "length error\n",
      "length error\n"
     ]
    }
   ],
   "source": [
    "texts = []\n",
    "for orig_line, pred_line in zip(orig_data, pred_data):\n",
    "    # print(orig_line, pred_line)\n",
    "    orig_list = orig_line.strip().split()\n",
    "    pred_list = pred_line.strip().split()\n",
    "    if len(orig_list)!=len(pred_list):\n",
    "        print(\"length error\")\n",
    "        # print(orig_line, pred_line)\n",
    "        # print(len(orig_list), len(pred_list))\n",
    "\n",
    "    template = []\n",
    "    sentence = orig_list\n",
    "    j = 0\n",
    "    flag = 0\n",
    "    for i, label in enumerate(pred_list):\n",
    "        if label=='C':\n",
    "            flag = 0\n",
    "            continue\n",
    "        elif label=='I':\n",
    "            if flag==0:\n",
    "                template.append(f'<extra_id_{j}> {sentence[i]}')\n",
    "                flag=1\n",
    "                sentence[i] = f'<extra_id_{j}>'\n",
    "                j+=1\n",
    "            else:\n",
    "                template.append(sentence[i])\n",
    "                sentence[i] = ''\n",
    "        else:\n",
    "            print('label error')\n",
    "    template_sentence = f\"{' '.join(template)} </s> {(' '.join(sentence)).replace('  ', ' ')}\"\n",
    "    corrected_sentence = orig_line.strip()\n",
    "    texts.append({\"translation\": {\"src\": template_sentence, \"tgt\": corrected_sentence}})\n",
    "            "
   ]
  },
  {
   "cell_type": "code",
   "execution_count": 66,
   "id": "77adbc44-e2cf-46d7-97a4-2e775d17f749",
   "metadata": {},
   "outputs": [],
   "source": [
    "import json\n",
    "# output_file = './predicted/binary/train_template.json'\n",
    "output_file = './predicted/trueTest/test_template_2class.json'\n",
    "with open(output_file, 'w') as out_file:\n",
    "    # json.dump(sentence_pairs, out_file, indent=2)\n",
    "    for d in texts:\n",
    "        out_file.write(json.dumps(d, ensure_ascii=False) + '\\n')"
   ]
  },
  {
   "cell_type": "code",
   "execution_count": 67,
   "id": "94dafa84-75e6-49fb-b6de-a99450537444",
   "metadata": {},
   "outputs": [
    {
     "data": {
      "text/plain": [
       "{'translation': {'src': ' </s> Dear Sir ,', 'tgt': 'Dear Sir ,'}}"
      ]
     },
     "execution_count": 67,
     "metadata": {},
     "output_type": "execute_result"
    }
   ],
   "source": [
    "texts[0]"
   ]
  },
  {
   "cell_type": "markdown",
   "id": "d3669acf-6865-430b-9ae4-46e6e433a0f6",
   "metadata": {},
   "source": [
    "# multi"
   ]
  },
  {
   "cell_type": "code",
   "execution_count": 68,
   "id": "3204a619-4efd-422a-a5de-75b2fc11e439",
   "metadata": {},
   "outputs": [],
   "source": [
    "# with open('./datasets_multi/text/train.txt', 'r') as f:\n",
    "#     orig_data = f.readlines()\n",
    "    \n",
    "# with open('./predicted/multi/train.txt', 'r') as f:\n",
    "#     pred_data = f.readlines()\n",
    "\n",
    "\n",
    "with open('./predicted/trueTest/ABCN.test.bea19.txt', 'r') as f:\n",
    "    orig_data = f.readlines()\n",
    "    \n",
    "with open('./predicted/trueTest/multi.txt', 'r') as f:\n",
    "    pred_data = f.readlines()"
   ]
  },
  {
   "cell_type": "code",
   "execution_count": 69,
   "id": "36d72791-c96f-4118-8f22-a1a0234eee83",
   "metadata": {},
   "outputs": [
    {
     "name": "stdout",
     "output_type": "stream",
     "text": [
      "length error\n",
      "length error\n"
     ]
    }
   ],
   "source": [
    "texts = []\n",
    "for orig_line, pred_line in zip(orig_data, pred_data):\n",
    "    # print(orig_line, pred_line)\n",
    "    orig_list = orig_line.strip().split()\n",
    "    pred_list = pred_line.strip().split()\n",
    "    if len(orig_list)!=len(pred_list):\n",
    "        print(\"length error\")\n",
    "        # print(orig_line, pred_line)\n",
    "        # print(len(orig_list), len(pred_list))\n",
    "\n",
    "    template = []\n",
    "    sentence = orig_list\n",
    "    j = 0\n",
    "    flag = 0\n",
    "    labels = ['C','M','U','R']\n",
    "    for i, label in enumerate(pred_list):\n",
    "        if label=='C':\n",
    "            flag = 0\n",
    "            continue\n",
    "        elif label in ['M','U','R']:\n",
    "            if flag!=labels.index(label):\n",
    "                template.append(f'<extra_id_{j}> {label}: {sentence[i]}')\n",
    "                flag = labels.index(label) \n",
    "                sentence[i] = f'<extra_id_{j}>'\n",
    "                j+=1\n",
    "            else:\n",
    "                template.append(sentence[i])\n",
    "                sentence[i] = ''\n",
    "        else:\n",
    "            print('label error')\n",
    "    template_sentence = f\"{' '.join(template)} </s> {(' '.join(sentence)).replace('  ', ' ')}\"\n",
    "    corrected_sentence = orig_line.strip()\n",
    "    texts.append({\"translation\": {\"src\": template_sentence, \"tgt\": corrected_sentence}})"
   ]
  },
  {
   "cell_type": "code",
   "execution_count": 70,
   "id": "14cce6ed-2b6b-40cb-9c55-fb701932d7ca",
   "metadata": {},
   "outputs": [],
   "source": [
    "import json\n",
    "output_file = './predicted/multi/train_template.json'\n",
    "output_file = './predicted/trueTest/test_template_4class.json'\n",
    "with open(output_file, 'w') as out_file:\n",
    "    # json.dump(sentence_pairs, out_file, indent=2)\n",
    "    for d in texts:\n",
    "        out_file.write(json.dumps(d, ensure_ascii=False) + '\\n')"
   ]
  },
  {
   "cell_type": "code",
   "execution_count": 73,
   "id": "f123dbe8-7048-45d1-9468-dec70e763813",
   "metadata": {},
   "outputs": [
    {
     "data": {
      "text/plain": [
       "{'translation': {'src': '<extra_id_0> R: keeper </s> I have seen your advertisement for a job on the internet and I am writing to apply for a summer job as an instructor and <extra_id_0> of children in your camp .',\n",
       "  'tgt': 'I have seen your advertisement for a job on the internet and I am writing to apply for a summer job as an instructor and keeper of children in your camp .'}}"
      ]
     },
     "execution_count": 73,
     "metadata": {},
     "output_type": "execute_result"
    }
   ],
   "source": [
    "texts[1]"
   ]
  },
  {
   "cell_type": "code",
   "execution_count": null,
   "id": "12129e49-318f-4096-82c9-9dc0ad889ec0",
   "metadata": {},
   "outputs": [],
   "source": []
  }
 ],
 "metadata": {
  "kernelspec": {
   "display_name": "Python 3 (ipykernel)",
   "language": "python",
   "name": "python3"
  },
  "language_info": {
   "codemirror_mode": {
    "name": "ipython",
    "version": 3
   },
   "file_extension": ".py",
   "mimetype": "text/x-python",
   "name": "python",
   "nbconvert_exporter": "python",
   "pygments_lexer": "ipython3",
   "version": "3.8.10"
  }
 },
 "nbformat": 4,
 "nbformat_minor": 5
}
